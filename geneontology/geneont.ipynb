{
 "cells": [
  {
   "cell_type": "markdown",
   "metadata": {},
   "source": [
    "# The necessary text files that needed to be parsed to run this code could not be pushed to GitHub due to their size, if you want to run this code, please download them and name the files accordingly"
   ]
  },
  {
   "cell_type": "code",
   "execution_count": 54,
   "metadata": {},
   "outputs": [],
   "source": [
    "import goatools\n",
    "from goatools import obo_parser\n",
    "from goatools.obo_parser import OBOReader\n",
    "from goatools.obo_parser import GOTerm\n",
    "from goatools.obo_parser import GODag\n",
    "import networkx as nx\n",
    "import matplotlib.pyplot as plt\n",
    "import numpy as np"
   ]
  },
  {
   "cell_type": "code",
   "execution_count": 2,
   "metadata": {},
   "outputs": [],
   "source": [
    "#This section of code was taken from StackOverflow to solve the problem of version 2.2 files not being able to be parsed by \n",
    "#Bio.UniProt.GOA\n",
    "\n",
    "GAF22FIELDS = [\n",
    "    \"DB\",\n",
    "    \"DB_Object_ID\",\n",
    "    \"DB_Object_Symbol\",\n",
    "    \"Qualifier\",\n",
    "    \"GO_ID\",\n",
    "    \"DB:Reference\",\n",
    "    \"Evidence_Code\",\n",
    "    \"With\",\n",
    "    \"Aspect\",\n",
    "    \"DB_Object_Name\",\n",
    "    \"DB_Object_Synonym\",\n",
    "    \"DB_Object_Type\",\n",
    "    \"Taxon\",\n",
    "    \"Date\",\n",
    "    \"Assigned_By\",\n",
    "    \"Annotation_Extension\",\n",
    "    \"Gene_Product_Form_ID\",\n",
    "]\n",
    "\n",
    "def gaf22iterator(handle):\n",
    "    for inline in handle:\n",
    "        if inline[0] == \"!\":\n",
    "            continue\n",
    "        inrec = inline.rstrip(\"\\n\").split(\"\\t\")\n",
    "        if len(inrec) == 1:\n",
    "            continue\n",
    "        inrec[3] = inrec[3].split(\"|\")  # Qualifier\n",
    "        inrec[5] = inrec[5].split(\"|\")  # DB:reference(s)\n",
    "        inrec[7] = inrec[7].split(\"|\")  # With || From\n",
    "        inrec[10] = inrec[10].split(\"|\")  # Synonym\n",
    "        inrec[12] = inrec[12].split(\"|\")  # Taxon\n",
    "        yield dict(zip(GAF22FIELDS, inrec))"
   ]
  },
  {
   "cell_type": "code",
   "execution_count": 3,
   "metadata": {},
   "outputs": [
    {
     "name": "stdout",
     "output_type": "stream",
     "text": [
      "go-basic.obo: fmt(1.2) rel(2022-10-07) 46,825 Terms\n"
     ]
    }
   ],
   "source": [
    "go_dag = GODag(optional_attrs='relationship_set')"
   ]
  },
  {
   "cell_type": "code",
   "execution_count": 4,
   "metadata": {},
   "outputs": [],
   "source": [
    "humanfile = 'goa_human.gaf'\n",
    "human_annotations = {}\n",
    "for entry in gaf22iterator(open(humanfile)):\n",
    "    uniprot_id = entry.pop('GO_ID')\n",
    "    human_annotations[uniprot_id] = entry"
   ]
  },
  {
   "cell_type": "code",
   "execution_count": 5,
   "metadata": {},
   "outputs": [
    {
     "name": "stdout",
     "output_type": "stream",
     "text": [
      "{'DB': 'UniProtKB', 'DB_Object_ID': 'P07766', 'DB_Object_Symbol': 'CD3E', 'Qualifier': ['part_of'], 'DB:Reference': ['PMID:21873635'], 'Evidence_Code': 'IBA', 'With': ['PANTHER:PTN000060280', 'UniProtKB:P09693', 'MGI:MGI:88333', 'MGI:MGI:88331', 'MGI:MGI:88332', 'UniProtKB:P07766', 'UniProtKB:P04234'], 'Aspect': 'C', 'DB_Object_Name': 'T-cell surface glycoprotein CD3 epsilon chain', 'DB_Object_Synonym': ['CD3E', 'T3E'], 'DB_Object_Type': 'protein', 'Taxon': ['taxon:9606'], 'Date': '20210529', 'Assigned_By': 'GO_Central', 'Annotation_Extension': '', 'Gene_Product_Form_ID': ''}\n"
     ]
    }
   ],
   "source": [
    "humterm = human_annotations[list(human_annotations.keys())[7]]\n",
    "print(humterm)"
   ]
  },
  {
   "cell_type": "code",
   "execution_count": 6,
   "metadata": {},
   "outputs": [],
   "source": [
    "go_dag_anscestors = {}\n",
    "for goterm in go_dag:\n",
    "    parents = go_dag[goterm].get_all_parents()\n",
    "    anscestorgraph = nx.DiGraph()\n",
    "    for parent in parents:\n",
    "        anscestorgraph.add_edge(goterm, parent)\n",
    "    go_dag_anscestors[goterm] = anscestorgraph   "
   ]
  },
  {
   "cell_type": "code",
   "execution_count": 7,
   "metadata": {},
   "outputs": [],
   "source": [
    "human_annotations_transferred = dict()\n",
    "for gene in human_annotations.keys():\n",
    "    try:\n",
    "        gograph = go_dag_anscestors[gene].nodes()\n",
    "        graph = nx.DiGraph()\n",
    "        for node in gograph:\n",
    "            if node in human_annotations.keys():\n",
    "                graph.add_edge(gene, node)\n",
    "        human_annotations_transferred[gene] = graph\n",
    "    except:\n",
    "        print('fail')"
   ]
  },
  {
   "cell_type": "code",
   "execution_count": 9,
   "metadata": {},
   "outputs": [
    {
     "name": "stdout",
     "output_type": "stream",
     "text": [
      "12550\n"
     ]
    }
   ],
   "source": [
    "nbp = 0\n",
    "for gene in human_annotations.keys():\n",
    "    try:\n",
    "        name = go_dag[gene].namespace\n",
    "        if(name == 'biological_process'):\n",
    "            nbp+=1\n",
    "    except:\n",
    "        print('fail')\n",
    "print(nbp)"
   ]
  },
  {
   "cell_type": "code",
   "execution_count": 10,
   "metadata": {},
   "outputs": [
    {
     "name": "stdout",
     "output_type": "stream",
     "text": [
      "4552\n"
     ]
    }
   ],
   "source": [
    "nmf = 0\n",
    "for gene in human_annotations.keys():\n",
    "    try:\n",
    "        name = go_dag[gene].namespace\n",
    "        if(name == 'molecular_function'):\n",
    "            nmf+=1\n",
    "    except:\n",
    "        print('fail')\n",
    "print(nmf)"
   ]
  },
  {
   "cell_type": "code",
   "execution_count": 11,
   "metadata": {},
   "outputs": [
    {
     "name": "stdout",
     "output_type": "stream",
     "text": [
      "1790\n"
     ]
    }
   ],
   "source": [
    "ncc = 0\n",
    "for gene in human_annotations.keys():\n",
    "    try:\n",
    "        name = go_dag[gene].namespace\n",
    "        if(name == 'cellular_component'):\n",
    "            ncc+=1\n",
    "    except:\n",
    "        print('fail')\n",
    "print(ncc)"
   ]
  },
  {
   "cell_type": "code",
   "execution_count": 12,
   "metadata": {},
   "outputs": [],
   "source": [
    "bpterms10 = []\n",
    "bpterms1 = []\n",
    "for gene in human_annotations.keys():\n",
    "    try:\n",
    "        children = go_dag[gene].get_all_children()\n",
    "        bpcounter = 0\n",
    "        for child in children:\n",
    "            if child in human_annotations.keys():\n",
    "                if go_dag[child].namespace == 'biological_process':\n",
    "                    bpcounter +=1\n",
    "        if bpcounter > nbp/10:\n",
    "            bpterms10.append(gene)\n",
    "            \n",
    "        if bpcounter > nbp/100:\n",
    "            bpterms1.append(gene)\n",
    "    except:\n",
    "        print('fail')"
   ]
  },
  {
   "cell_type": "code",
   "execution_count": 13,
   "metadata": {},
   "outputs": [],
   "source": [
    "mfterms10 = []\n",
    "mfterms1 = []\n",
    "for gene in human_annotations.keys():\n",
    "    try:\n",
    "        children = go_dag[gene].get_all_children()\n",
    "        mfcounter = 0\n",
    "        for child in children:\n",
    "            if child in human_annotations.keys():\n",
    "                if go_dag[child].namespace == 'molecular_function':\n",
    "                    mfcounter +=1\n",
    "        if mfcounter > nmf/10:\n",
    "            mfterms10.append(gene)\n",
    "            \n",
    "        if mfcounter > nmf/100:\n",
    "            mfterms1.append(gene)\n",
    "    except:\n",
    "        print('fail')"
   ]
  },
  {
   "cell_type": "code",
   "execution_count": 14,
   "metadata": {},
   "outputs": [],
   "source": [
    "ccterms10 = []\n",
    "ccterms1 = []\n",
    "for gene in human_annotations.keys():\n",
    "    try:\n",
    "        children = go_dag[gene].get_all_children()\n",
    "        cccounter = 0\n",
    "        for child in children:\n",
    "            if child in human_annotations.keys():\n",
    "                if go_dag[child].namespace == 'cellular_component':\n",
    "                    cccounter +=1\n",
    "        if cccounter > ncc/10:\n",
    "            ccterms10.append(gene)\n",
    "            \n",
    "        if cccounter > ncc/100:\n",
    "            ccterms1.append(gene)\n",
    "    except:\n",
    "        print('fail')"
   ]
  },
  {
   "cell_type": "code",
   "execution_count": 15,
   "metadata": {},
   "outputs": [],
   "source": [
    "sbp1 = []\n",
    "for term in bpterms1:\n",
    "    inlist = False\n",
    "    for parent in go_dag[term].get_all_parents():\n",
    "        if parent in bpterms1:\n",
    "            inlist = True\n",
    "    if not inlist:\n",
    "        sbp1.append(term)\n",
    "sbp10 = []\n",
    "for term in bpterms10:\n",
    "    inlist = False\n",
    "    for parent in go_dag[term].get_all_parents():\n",
    "        if parent in bpterms10:\n",
    "            inlist = True\n",
    "    if not inlist:\n",
    "        sbp10.append(term)"
   ]
  },
  {
   "cell_type": "code",
   "execution_count": 16,
   "metadata": {},
   "outputs": [],
   "source": [
    "smf1 = []\n",
    "for term in mfterms1:\n",
    "    inlist = False\n",
    "    for parent in go_dag[term].get_all_parents():\n",
    "        if parent in mfterms1:\n",
    "            inlist = True\n",
    "    if not inlist:\n",
    "        smf1.append(term)\n",
    "smf10 = []\n",
    "for term in mfterms10:\n",
    "    inlist = False\n",
    "    for parent in go_dag[term].get_all_parents():\n",
    "        if parent in mfterms10:\n",
    "            inlist = True\n",
    "    if not inlist:\n",
    "        smf10.append(term)"
   ]
  },
  {
   "cell_type": "code",
   "execution_count": 17,
   "metadata": {},
   "outputs": [],
   "source": [
    "scc1 = []\n",
    "for term in ccterms1:\n",
    "    inlist = False\n",
    "    for parent in go_dag[term].get_all_parents():\n",
    "        if parent in ccterms1:\n",
    "            inlist = True\n",
    "    if not inlist:\n",
    "        scc1.append(term)\n",
    "scc10 = []\n",
    "for term in ccterms10:\n",
    "    inlist = False\n",
    "    for parent in go_dag[term].get_all_parents():\n",
    "        if parent in ccterms10:\n",
    "            inlist = True\n",
    "    if not inlist:\n",
    "        scc10.append(term)"
   ]
  },
  {
   "cell_type": "code",
   "execution_count": 70,
   "metadata": {},
   "outputs": [],
   "source": [
    "def classifier(terms: list):\n",
    "    codes = dict()\n",
    "    codes['EXP'] = 0\n",
    "    codes['HTP'] = 0\n",
    "    codes['PHYLO'] = 0\n",
    "    codes['COMP'] = 0\n",
    "    codes['AUTH'] = 0\n",
    "    codes['IEA'] = 0\n",
    "    codes['ND'] = 0\n",
    "    for term in terms:\n",
    "        ec = human_annotations[term]['Evidence_Code']\n",
    "        if ec in ['EXP', 'IDA', 'IPI', 'IMP', 'IGI', 'IEP']:\n",
    "            codes['EXP']+=1\n",
    "        elif ec in ['HTP', 'HDA', 'HMP', 'HGI', 'HEP']:\n",
    "            codes['HTP']+=1\n",
    "        elif ec in ['IBA', 'IBD', 'IKR', 'IRD']:\n",
    "            codes['PHYLO']+=1\n",
    "        elif ec in ['ISS', 'ISO', 'ISA', 'ISM', 'IGC', 'RCA']:\n",
    "            codes['COMP']+=1\n",
    "        elif ec in ['TAS', 'NAS', 'IC']:\n",
    "            codes['AUTH']+=1\n",
    "        elif ec == 'IEA':\n",
    "            codes['IEA']+=1\n",
    "        else:\n",
    "            codes['ND']+=1\n",
    "    return codes"
   ]
  },
  {
   "cell_type": "code",
   "execution_count": 71,
   "metadata": {},
   "outputs": [],
   "source": [
    "bp1 = classifier(bpterms1)\n",
    "mf1 = classifier(mfterms1)\n",
    "cc1 = classifier(ccterms1)\n",
    "bp10 = classifier(bpterms10)\n",
    "mf10 = classifier(mfterms10)\n",
    "cc10 = classifier(ccterms10)"
   ]
  },
  {
   "cell_type": "code",
   "execution_count": 92,
   "metadata": {},
   "outputs": [],
   "source": [
    "labels = ['Biological Process', 'Molecular Function', 'Cellular Component']\n",
    "b1 = bp1['EXP']\n",
    "m1 = mf1['EXP']\n",
    "c1 = cc1['EXP']\n",
    "exp = np.array([b1, m1, c1])\n",
    "htp = [bp1['HTP'], mf1['HTP'], cc1['HTP']]\n",
    "phylo = [bp1['PHYLO'], mf1['PHYLO'], cc1['PHYLO']]\n",
    "comp = [bp1['COMP'], mf1['COMP'], cc1['COMP']]\n",
    "auth = [bp1['AUTH'], mf1['AUTH'], cc1['AUTH']]\n",
    "iea = [bp1['IEA'], mf1['IEA'], cc1['IEA']]\n",
    "nd = [bp1['ND'], mf1['ND'], cc1['ND']]"
   ]
  },
  {
   "cell_type": "code",
   "execution_count": 95,
   "metadata": {},
   "outputs": [
    {
     "data": {
      "image/png": "[encoded data removed]",
      "text/plain": [
       "<Figure size 432x288 with 1 Axes>"
      ]
     },
     "metadata": {
      "needs_background": "light"
     },
     "output_type": "display_data"
    }
   ],
   "source": [
    "plt.bar(labels, exp, label='EXP')\n",
    "plt.bar(labels, htp, bottom=exp, label='HTP')\n",
    "plt.bar(labels, phylo, bottom=exp + htp, label='PHYLO')\n",
    "plt.bar(labels, comp, bottom=exp + htp + phylo, label='COMP')\n",
    "plt.bar(labels, auth, bottom=exp + htp + phylo + comp, label='AUTH')\n",
    "plt.bar(labels, iea, bottom=exp + htp + phylo + comp + auth, label='IEA')\n",
    "plt.bar(labels, nd, bottom=exp + htp + phylo + comp + auth + iea, label='ND')\n",
    "\n",
    "plt.ylabel('Counts')\n",
    "plt.title('Counts by Evidence Code Groups (1% Threshold)')\n",
    "plt.legend(['EXP', 'HTP', 'PHYLO', 'COMP', 'AUTH', 'IEA', 'ND'])\n",
    "plt.show()"
   ]
  },
  {
   "cell_type": "code",
   "execution_count": 96,
   "metadata": {},
   "outputs": [],
   "source": [
    "b10 = bp10['EXP']\n",
    "m10 = mf10['EXP']\n",
    "c10 = cc10['EXP']\n",
    "exp = np.array([b10, m10, c10])\n",
    "htp = [bp10['HTP'], mf10['HTP'], cc10['HTP']]\n",
    "phylo = [bp10['PHYLO'], mf10['PHYLO'], cc10['PHYLO']]\n",
    "comp = [bp10['COMP'], mf10['COMP'], cc10['COMP']]\n",
    "auth = [bp10['AUTH'], mf10['AUTH'], cc10['AUTH']]\n",
    "iea = [bp10['IEA'], mf10['IEA'], cc10['IEA']]\n",
    "nd = [bp10['ND'], mf10['ND'], cc10['ND']]"
   ]
  },
  {
   "cell_type": "code",
   "execution_count": 98,
   "metadata": {},
   "outputs": [
    {
     "data": {
      "image/png": "[encoded data removed]",
      "text/plain": [
       "<Figure size 432x288 with 1 Axes>"
      ]
     },
     "metadata": {
      "needs_background": "light"
     },
     "output_type": "display_data"
    }
   ],
   "source": [
    "plt.bar(labels, exp, label='EXP')\n",
    "plt.bar(labels, htp, bottom=exp, label='HTP')\n",
    "plt.bar(labels, phylo, bottom=exp + htp, label='PHYLO')\n",
    "plt.bar(labels, comp, bottom=exp + htp + phylo, label='COMP')\n",
    "plt.bar(labels, auth, bottom=exp + htp + phylo + comp, label='AUTH')\n",
    "plt.bar(labels, iea, bottom=exp + htp + phylo + comp + auth, label='IEA')\n",
    "plt.bar(labels, nd, bottom=exp + htp + phylo + comp + auth + iea, label='ND')\n",
    "\n",
    "plt.ylabel('Counts')\n",
    "plt.title('Counts by Evidence Code Groups (10% Threshold)')\n",
    "plt.legend(['EXP', 'HTP', 'PHYLO', 'COMP', 'AUTH', 'IEA', 'ND'])\n",
    "plt.show()"
   ]
  },
  {
   "cell_type": "code",
   "execution_count": null,
   "metadata": {},
   "outputs": [],
   "source": []
  }
 ],
 "metadata": {
  "kernelspec": {
   "display_name": "Python 3",
   "language": "python",
   "name": "python3"
  },
  "language_info": {
   "codemirror_mode": {
    "name": "ipython",
    "version": 3
   },
   "file_extension": ".py",
   "mimetype": "text/x-python",
   "name": "python",
   "nbconvert_exporter": "python",
   "pygments_lexer": "ipython3",
   "version": "3.7.4"
  }
 },
 "nbformat": 4,
 "nbformat_minor": 2
}
